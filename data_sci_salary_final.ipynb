{
 "cells": [
  {
   "cell_type": "markdown",
   "metadata": {},
   "source": [
    "#### Outline\n",
    "1. check data \n",
    "2. clean data \n",
    "3. data visualization\n",
    "   * 3.1 Explore data (not about avg salary)\n",
    "   * 3.2 features VS salary"
   ]
  },
  {
   "cell_type": "code",
   "execution_count": 1,
   "metadata": {},
   "outputs": [],
   "source": [
    "import pandas as pd \n",
    "import numpy as np \n",
    "import seaborn as sns \n",
    "import matplotlib.pyplot as plt\n",
    "from IPython.display import display"
   ]
  },
  {
   "cell_type": "markdown",
   "metadata": {},
   "source": [
    "### 1. Check Data"
   ]
  },
  {
   "cell_type": "code",
   "execution_count": 2,
   "metadata": {},
   "outputs": [],
   "source": [
    "pd.set_option('display.max_columns',50)\n",
    "df = pd.read_csv('data_cleaned_2021.csv',index_col=0)"
   ]
  },
  {
   "cell_type": "code",
   "execution_count": 3,
   "metadata": {},
   "outputs": [
    {
     "data": {
      "text/html": [
       "<div>\n",
       "<style scoped>\n",
       "    .dataframe tbody tr th:only-of-type {\n",
       "        vertical-align: middle;\n",
       "    }\n",
       "\n",
       "    .dataframe tbody tr th {\n",
       "        vertical-align: top;\n",
       "    }\n",
       "\n",
       "    .dataframe thead th {\n",
       "        text-align: right;\n",
       "    }\n",
       "</style>\n",
       "<table border=\"1\" class=\"dataframe\">\n",
       "  <thead>\n",
       "    <tr style=\"text-align: right;\">\n",
       "      <th></th>\n",
       "      <th>Job Title</th>\n",
       "      <th>Salary Estimate</th>\n",
       "      <th>Job Description</th>\n",
       "      <th>Rating</th>\n",
       "      <th>Company Name</th>\n",
       "      <th>Location</th>\n",
       "      <th>Headquarters</th>\n",
       "      <th>Size</th>\n",
       "      <th>Founded</th>\n",
       "      <th>Type of ownership</th>\n",
       "      <th>Industry</th>\n",
       "      <th>Sector</th>\n",
       "      <th>Revenue</th>\n",
       "      <th>Competitors</th>\n",
       "      <th>Hourly</th>\n",
       "      <th>Employer provided</th>\n",
       "      <th>Lower Salary</th>\n",
       "      <th>Upper Salary</th>\n",
       "      <th>Avg Salary(K)</th>\n",
       "      <th>company_txt</th>\n",
       "      <th>Job Location</th>\n",
       "      <th>Age</th>\n",
       "      <th>Python</th>\n",
       "      <th>spark</th>\n",
       "      <th>aws</th>\n",
       "      <th>excel</th>\n",
       "      <th>sql</th>\n",
       "      <th>sas</th>\n",
       "      <th>keras</th>\n",
       "      <th>pytorch</th>\n",
       "      <th>scikit</th>\n",
       "      <th>tensor</th>\n",
       "      <th>hadoop</th>\n",
       "      <th>tableau</th>\n",
       "      <th>bi</th>\n",
       "      <th>flink</th>\n",
       "      <th>mongo</th>\n",
       "      <th>google_an</th>\n",
       "      <th>job_title_sim</th>\n",
       "      <th>seniority_by_title</th>\n",
       "      <th>Degree</th>\n",
       "    </tr>\n",
       "    <tr>\n",
       "      <th>index</th>\n",
       "      <th></th>\n",
       "      <th></th>\n",
       "      <th></th>\n",
       "      <th></th>\n",
       "      <th></th>\n",
       "      <th></th>\n",
       "      <th></th>\n",
       "      <th></th>\n",
       "      <th></th>\n",
       "      <th></th>\n",
       "      <th></th>\n",
       "      <th></th>\n",
       "      <th></th>\n",
       "      <th></th>\n",
       "      <th></th>\n",
       "      <th></th>\n",
       "      <th></th>\n",
       "      <th></th>\n",
       "      <th></th>\n",
       "      <th></th>\n",
       "      <th></th>\n",
       "      <th></th>\n",
       "      <th></th>\n",
       "      <th></th>\n",
       "      <th></th>\n",
       "      <th></th>\n",
       "      <th></th>\n",
       "      <th></th>\n",
       "      <th></th>\n",
       "      <th></th>\n",
       "      <th></th>\n",
       "      <th></th>\n",
       "      <th></th>\n",
       "      <th></th>\n",
       "      <th></th>\n",
       "      <th></th>\n",
       "      <th></th>\n",
       "      <th></th>\n",
       "      <th></th>\n",
       "      <th></th>\n",
       "      <th></th>\n",
       "    </tr>\n",
       "  </thead>\n",
       "  <tbody>\n",
       "    <tr>\n",
       "      <th>0</th>\n",
       "      <td>Data Scientist</td>\n",
       "      <td>$53K-$91K (Glassdoor est.)</td>\n",
       "      <td>Data Scientist\\nLocation: Albuquerque, NM\\nEdu...</td>\n",
       "      <td>3.8</td>\n",
       "      <td>Tecolote Research\\n3.8</td>\n",
       "      <td>Albuquerque, NM</td>\n",
       "      <td>Goleta, CA</td>\n",
       "      <td>501 - 1000</td>\n",
       "      <td>1973</td>\n",
       "      <td>Company - Private</td>\n",
       "      <td>Aerospace &amp; Defense</td>\n",
       "      <td>Aerospace &amp; Defense</td>\n",
       "      <td>$50 to $100 million (USD)</td>\n",
       "      <td>-1</td>\n",
       "      <td>0</td>\n",
       "      <td>0</td>\n",
       "      <td>53</td>\n",
       "      <td>91</td>\n",
       "      <td>72.0</td>\n",
       "      <td>Tecolote Research</td>\n",
       "      <td>NM</td>\n",
       "      <td>48</td>\n",
       "      <td>1</td>\n",
       "      <td>0</td>\n",
       "      <td>0</td>\n",
       "      <td>1</td>\n",
       "      <td>0</td>\n",
       "      <td>1</td>\n",
       "      <td>0</td>\n",
       "      <td>0</td>\n",
       "      <td>0</td>\n",
       "      <td>0</td>\n",
       "      <td>0</td>\n",
       "      <td>1</td>\n",
       "      <td>1</td>\n",
       "      <td>0</td>\n",
       "      <td>0</td>\n",
       "      <td>0</td>\n",
       "      <td>data scientist</td>\n",
       "      <td>na</td>\n",
       "      <td>M</td>\n",
       "    </tr>\n",
       "    <tr>\n",
       "      <th>1</th>\n",
       "      <td>Healthcare Data Scientist</td>\n",
       "      <td>$63K-$112K (Glassdoor est.)</td>\n",
       "      <td>What You Will Do:\\n\\nI. General Summary\\n\\nThe...</td>\n",
       "      <td>3.4</td>\n",
       "      <td>University of Maryland Medical System\\n3.4</td>\n",
       "      <td>Linthicum, MD</td>\n",
       "      <td>Baltimore, MD</td>\n",
       "      <td>10000+</td>\n",
       "      <td>1984</td>\n",
       "      <td>Other Organization</td>\n",
       "      <td>Health Care Services &amp; Hospitals</td>\n",
       "      <td>Health Care</td>\n",
       "      <td>$2 to $5 billion (USD)</td>\n",
       "      <td>-1</td>\n",
       "      <td>0</td>\n",
       "      <td>0</td>\n",
       "      <td>63</td>\n",
       "      <td>112</td>\n",
       "      <td>87.5</td>\n",
       "      <td>University of Maryland Medical System</td>\n",
       "      <td>MD</td>\n",
       "      <td>37</td>\n",
       "      <td>1</td>\n",
       "      <td>0</td>\n",
       "      <td>0</td>\n",
       "      <td>0</td>\n",
       "      <td>0</td>\n",
       "      <td>0</td>\n",
       "      <td>0</td>\n",
       "      <td>0</td>\n",
       "      <td>0</td>\n",
       "      <td>0</td>\n",
       "      <td>0</td>\n",
       "      <td>0</td>\n",
       "      <td>0</td>\n",
       "      <td>0</td>\n",
       "      <td>0</td>\n",
       "      <td>0</td>\n",
       "      <td>data scientist</td>\n",
       "      <td>na</td>\n",
       "      <td>M</td>\n",
       "    </tr>\n",
       "    <tr>\n",
       "      <th>2</th>\n",
       "      <td>Data Scientist</td>\n",
       "      <td>$80K-$90K (Glassdoor est.)</td>\n",
       "      <td>KnowBe4, Inc. is a high growth information sec...</td>\n",
       "      <td>4.8</td>\n",
       "      <td>KnowBe4\\n4.8</td>\n",
       "      <td>Clearwater, FL</td>\n",
       "      <td>Clearwater, FL</td>\n",
       "      <td>501 - 1000</td>\n",
       "      <td>2010</td>\n",
       "      <td>Company - Private</td>\n",
       "      <td>Security Services</td>\n",
       "      <td>Business Services</td>\n",
       "      <td>$100 to $500 million (USD)</td>\n",
       "      <td>-1</td>\n",
       "      <td>0</td>\n",
       "      <td>0</td>\n",
       "      <td>80</td>\n",
       "      <td>90</td>\n",
       "      <td>85.0</td>\n",
       "      <td>KnowBe4</td>\n",
       "      <td>FL</td>\n",
       "      <td>11</td>\n",
       "      <td>1</td>\n",
       "      <td>1</td>\n",
       "      <td>0</td>\n",
       "      <td>1</td>\n",
       "      <td>1</td>\n",
       "      <td>1</td>\n",
       "      <td>0</td>\n",
       "      <td>0</td>\n",
       "      <td>0</td>\n",
       "      <td>0</td>\n",
       "      <td>0</td>\n",
       "      <td>0</td>\n",
       "      <td>0</td>\n",
       "      <td>0</td>\n",
       "      <td>0</td>\n",
       "      <td>0</td>\n",
       "      <td>data scientist</td>\n",
       "      <td>na</td>\n",
       "      <td>M</td>\n",
       "    </tr>\n",
       "    <tr>\n",
       "      <th>3</th>\n",
       "      <td>Data Scientist</td>\n",
       "      <td>$56K-$97K (Glassdoor est.)</td>\n",
       "      <td>*Organization and Job ID**\\nJob ID: 310709\\n\\n...</td>\n",
       "      <td>3.8</td>\n",
       "      <td>PNNL\\n3.8</td>\n",
       "      <td>Richland, WA</td>\n",
       "      <td>Richland, WA</td>\n",
       "      <td>1001 - 5000</td>\n",
       "      <td>1965</td>\n",
       "      <td>Government</td>\n",
       "      <td>Energy</td>\n",
       "      <td>Oil, Gas, Energy &amp; Utilities</td>\n",
       "      <td>$500 million to $1 billion (USD)</td>\n",
       "      <td>Oak Ridge National Laboratory, National Renewa...</td>\n",
       "      <td>0</td>\n",
       "      <td>0</td>\n",
       "      <td>56</td>\n",
       "      <td>97</td>\n",
       "      <td>76.5</td>\n",
       "      <td>PNNL</td>\n",
       "      <td>WA</td>\n",
       "      <td>56</td>\n",
       "      <td>1</td>\n",
       "      <td>0</td>\n",
       "      <td>0</td>\n",
       "      <td>0</td>\n",
       "      <td>0</td>\n",
       "      <td>0</td>\n",
       "      <td>0</td>\n",
       "      <td>0</td>\n",
       "      <td>0</td>\n",
       "      <td>0</td>\n",
       "      <td>0</td>\n",
       "      <td>0</td>\n",
       "      <td>0</td>\n",
       "      <td>0</td>\n",
       "      <td>0</td>\n",
       "      <td>0</td>\n",
       "      <td>data scientist</td>\n",
       "      <td>na</td>\n",
       "      <td>na</td>\n",
       "    </tr>\n",
       "    <tr>\n",
       "      <th>4</th>\n",
       "      <td>Data Scientist</td>\n",
       "      <td>$86K-$143K (Glassdoor est.)</td>\n",
       "      <td>Data Scientist\\nAffinity Solutions / Marketing...</td>\n",
       "      <td>2.9</td>\n",
       "      <td>Affinity Solutions\\n2.9</td>\n",
       "      <td>New York, NY</td>\n",
       "      <td>New York, NY</td>\n",
       "      <td>51 - 200</td>\n",
       "      <td>1998</td>\n",
       "      <td>Company - Private</td>\n",
       "      <td>Advertising &amp; Marketing</td>\n",
       "      <td>Business Services</td>\n",
       "      <td>Unknown / Non-Applicable</td>\n",
       "      <td>Commerce Signals, Cardlytics, Yodlee</td>\n",
       "      <td>0</td>\n",
       "      <td>0</td>\n",
       "      <td>86</td>\n",
       "      <td>143</td>\n",
       "      <td>114.5</td>\n",
       "      <td>Affinity Solutions</td>\n",
       "      <td>NY</td>\n",
       "      <td>23</td>\n",
       "      <td>1</td>\n",
       "      <td>0</td>\n",
       "      <td>0</td>\n",
       "      <td>1</td>\n",
       "      <td>1</td>\n",
       "      <td>1</td>\n",
       "      <td>0</td>\n",
       "      <td>0</td>\n",
       "      <td>0</td>\n",
       "      <td>0</td>\n",
       "      <td>0</td>\n",
       "      <td>0</td>\n",
       "      <td>0</td>\n",
       "      <td>0</td>\n",
       "      <td>0</td>\n",
       "      <td>0</td>\n",
       "      <td>data scientist</td>\n",
       "      <td>na</td>\n",
       "      <td>na</td>\n",
       "    </tr>\n",
       "  </tbody>\n",
       "</table>\n",
       "</div>"
      ],
      "text/plain": [
       "                       Job Title              Salary Estimate  \\\n",
       "index                                                           \n",
       "0                 Data Scientist   $53K-$91K (Glassdoor est.)   \n",
       "1      Healthcare Data Scientist  $63K-$112K (Glassdoor est.)   \n",
       "2                 Data Scientist   $80K-$90K (Glassdoor est.)   \n",
       "3                 Data Scientist   $56K-$97K (Glassdoor est.)   \n",
       "4                 Data Scientist  $86K-$143K (Glassdoor est.)   \n",
       "\n",
       "                                         Job Description  Rating  \\\n",
       "index                                                              \n",
       "0      Data Scientist\\nLocation: Albuquerque, NM\\nEdu...     3.8   \n",
       "1      What You Will Do:\\n\\nI. General Summary\\n\\nThe...     3.4   \n",
       "2      KnowBe4, Inc. is a high growth information sec...     4.8   \n",
       "3      *Organization and Job ID**\\nJob ID: 310709\\n\\n...     3.8   \n",
       "4      Data Scientist\\nAffinity Solutions / Marketing...     2.9   \n",
       "\n",
       "                                     Company Name         Location  \\\n",
       "index                                                                \n",
       "0                          Tecolote Research\\n3.8  Albuquerque, NM   \n",
       "1      University of Maryland Medical System\\n3.4    Linthicum, MD   \n",
       "2                                    KnowBe4\\n4.8   Clearwater, FL   \n",
       "3                                       PNNL\\n3.8     Richland, WA   \n",
       "4                         Affinity Solutions\\n2.9     New York, NY   \n",
       "\n",
       "         Headquarters          Size  Founded   Type of ownership  \\\n",
       "index                                                              \n",
       "0          Goleta, CA   501 - 1000      1973   Company - Private   \n",
       "1       Baltimore, MD       10000+      1984  Other Organization   \n",
       "2      Clearwater, FL   501 - 1000      2010   Company - Private   \n",
       "3        Richland, WA  1001 - 5000      1965          Government   \n",
       "4        New York, NY     51 - 200      1998   Company - Private   \n",
       "\n",
       "                               Industry                        Sector  \\\n",
       "index                                                                   \n",
       "0                   Aerospace & Defense           Aerospace & Defense   \n",
       "1      Health Care Services & Hospitals                   Health Care   \n",
       "2                     Security Services             Business Services   \n",
       "3                                Energy  Oil, Gas, Energy & Utilities   \n",
       "4               Advertising & Marketing             Business Services   \n",
       "\n",
       "                                Revenue  \\\n",
       "index                                     \n",
       "0             $50 to $100 million (USD)   \n",
       "1                $2 to $5 billion (USD)   \n",
       "2            $100 to $500 million (USD)   \n",
       "3      $500 million to $1 billion (USD)   \n",
       "4              Unknown / Non-Applicable   \n",
       "\n",
       "                                             Competitors  Hourly  \\\n",
       "index                                                              \n",
       "0                                                     -1       0   \n",
       "1                                                     -1       0   \n",
       "2                                                     -1       0   \n",
       "3      Oak Ridge National Laboratory, National Renewa...       0   \n",
       "4                   Commerce Signals, Cardlytics, Yodlee       0   \n",
       "\n",
       "       Employer provided  Lower Salary  Upper Salary  Avg Salary(K)  \\\n",
       "index                                                                 \n",
       "0                      0            53            91           72.0   \n",
       "1                      0            63           112           87.5   \n",
       "2                      0            80            90           85.0   \n",
       "3                      0            56            97           76.5   \n",
       "4                      0            86           143          114.5   \n",
       "\n",
       "                                 company_txt Job Location  Age  Python  spark  \\\n",
       "index                                                                           \n",
       "0                          Tecolote Research           NM   48       1      0   \n",
       "1      University of Maryland Medical System           MD   37       1      0   \n",
       "2                                    KnowBe4           FL   11       1      1   \n",
       "3                                       PNNL           WA   56       1      0   \n",
       "4                         Affinity Solutions           NY   23       1      0   \n",
       "\n",
       "       aws  excel  sql  sas  keras  pytorch  scikit  tensor  hadoop  tableau  \\\n",
       "index                                                                          \n",
       "0        0      1    0    1      0        0       0       0       0        1   \n",
       "1        0      0    0    0      0        0       0       0       0        0   \n",
       "2        0      1    1    1      0        0       0       0       0        0   \n",
       "3        0      0    0    0      0        0       0       0       0        0   \n",
       "4        0      1    1    1      0        0       0       0       0        0   \n",
       "\n",
       "       bi  flink  mongo  google_an   job_title_sim seniority_by_title Degree  \n",
       "index                                                                         \n",
       "0       1      0      0          0  data scientist                 na      M  \n",
       "1       0      0      0          0  data scientist                 na      M  \n",
       "2       0      0      0          0  data scientist                 na      M  \n",
       "3       0      0      0          0  data scientist                 na     na  \n",
       "4       0      0      0          0  data scientist                 na     na  "
      ]
     },
     "execution_count": 3,
     "metadata": {},
     "output_type": "execute_result"
    }
   ],
   "source": [
    "df.head()"
   ]
  },
  {
   "cell_type": "code",
   "execution_count": 4,
   "metadata": {},
   "outputs": [
    {
     "name": "stdout",
     "output_type": "stream",
     "text": [
      "<class 'pandas.core.frame.DataFrame'>\n",
      "Int64Index: 742 entries, 0 to 955\n",
      "Data columns (total 41 columns):\n",
      " #   Column              Non-Null Count  Dtype  \n",
      "---  ------              --------------  -----  \n",
      " 0   Job Title           742 non-null    object \n",
      " 1   Salary Estimate     742 non-null    object \n",
      " 2   Job Description     742 non-null    object \n",
      " 3   Rating              742 non-null    float64\n",
      " 4   Company Name        742 non-null    object \n",
      " 5   Location            742 non-null    object \n",
      " 6   Headquarters        742 non-null    object \n",
      " 7   Size                742 non-null    object \n",
      " 8   Founded             742 non-null    int64  \n",
      " 9   Type of ownership   742 non-null    object \n",
      " 10  Industry            742 non-null    object \n",
      " 11  Sector              742 non-null    object \n",
      " 12  Revenue             742 non-null    object \n",
      " 13  Competitors         742 non-null    object \n",
      " 14  Hourly              742 non-null    int64  \n",
      " 15  Employer provided   742 non-null    int64  \n",
      " 16  Lower Salary        742 non-null    int64  \n",
      " 17  Upper Salary        742 non-null    int64  \n",
      " 18  Avg Salary(K)       742 non-null    float64\n",
      " 19  company_txt         742 non-null    object \n",
      " 20  Job Location        742 non-null    object \n",
      " 21  Age                 742 non-null    int64  \n",
      " 22  Python              742 non-null    int64  \n",
      " 23  spark               742 non-null    int64  \n",
      " 24  aws                 742 non-null    int64  \n",
      " 25  excel               742 non-null    int64  \n",
      " 26  sql                 742 non-null    int64  \n",
      " 27  sas                 742 non-null    int64  \n",
      " 28  keras               742 non-null    int64  \n",
      " 29  pytorch             742 non-null    int64  \n",
      " 30  scikit              742 non-null    int64  \n",
      " 31  tensor              742 non-null    int64  \n",
      " 32  hadoop              742 non-null    int64  \n",
      " 33  tableau             742 non-null    int64  \n",
      " 34  bi                  742 non-null    int64  \n",
      " 35  flink               742 non-null    int64  \n",
      " 36  mongo               742 non-null    int64  \n",
      " 37  google_an           742 non-null    int64  \n",
      " 38  job_title_sim       742 non-null    object \n",
      " 39  seniority_by_title  742 non-null    object \n",
      " 40  Degree              742 non-null    object \n",
      "dtypes: float64(2), int64(22), object(17)\n",
      "memory usage: 243.5+ KB\n"
     ]
    }
   ],
   "source": [
    "df.info()"
   ]
  },
  {
   "cell_type": "markdown",
   "metadata": {},
   "source": [
    "check null data"
   ]
  },
  {
   "cell_type": "code",
   "execution_count": 5,
   "metadata": {},
   "outputs": [
    {
     "data": {
      "text/plain": [
       "<AxesSubplot:ylabel='index'>"
      ]
     },
     "execution_count": 5,
     "metadata": {},
     "output_type": "execute_result"
    },
    {
     "data": {
      "image/png": "[encoded data removed]",
      "text/plain": [
       "<Figure size 432x288 with 2 Axes>"
      ]
     },
     "metadata": {
      "needs_background": "light"
     },
     "output_type": "display_data"
    }
   ],
   "source": [
    "sns.heatmap(df.isnull(),yticklabels=False)"
   ]
  },
  {
   "cell_type": "markdown",
   "metadata": {},
   "source": [
    "---"
   ]
  },
  {
   "cell_type": "markdown",
   "metadata": {},
   "source": [
    "### 2 . Clean Data"
   ]
  },
  {
   "cell_type": "markdown",
   "metadata": {},
   "source": [
    "Extract average salary from column ['Salary Estimate']"
   ]
  },
  {
   "cell_type": "code",
   "execution_count": 6,
   "metadata": {},
   "outputs": [],
   "source": [
    "list_to_clean = ['$','K','(Glassdoor est.)',' ','EmployerProvidedSalary:','PerHour','(Employerest.)']\n",
    "def clean_salary(salary):\n",
    "    for text in list_to_clean:\n",
    "        salary = salary.replace(text,'')\n",
    "    return salary\n",
    "df['all_salary'] = df['Salary Estimate'].apply(clean_salary)"
   ]
  },
  {
   "cell_type": "code",
   "execution_count": 7,
   "metadata": {},
   "outputs": [
    {
     "data": {
      "text/plain": [
       "index\n",
       "0     72.0\n",
       "1     87.5\n",
       "2     85.0\n",
       "3     76.5\n",
       "4    114.5\n",
       "Name: avg_salary (K), dtype: float64"
      ]
     },
     "execution_count": 7,
     "metadata": {},
     "output_type": "execute_result"
    }
   ],
   "source": [
    "df['min_salary'] = df['all_salary'].apply(lambda x : x.split('-')[0]).astype('int')\n",
    "df['max_salary'] = df['all_salary'].apply(lambda x : x.split('-')[1]).astype('int')\n",
    "df['avg_salary (K)'] = (df['min_salary'] + df['max_salary'])*0.5\n",
    "df['avg_salary (K)'].head()"
   ]
  },
  {
   "cell_type": "markdown",
   "metadata": {},
   "source": [
    "drop columns not use"
   ]
  },
  {
   "cell_type": "code",
   "execution_count": 8,
   "metadata": {},
   "outputs": [],
   "source": [
    "df = df.drop(labels=['Job Description','Founded','Industry','Company Name','Location','Headquarters','Competitors','Hourly','Employer provided',\n",
    "                     'company_txt','seniority_by_title','Degree','Lower Salary','Upper Salary','Avg Salary(K)'],axis=1)"
   ]
  },
  {
   "cell_type": "markdown",
   "metadata": {},
   "source": [
    "explore category in each column."
   ]
  },
  {
   "cell_type": "code",
   "execution_count": 9,
   "metadata": {},
   "outputs": [
    {
     "data": {
      "text/plain": [
       "Company - Private                 410\n",
       "Company - Public                  193\n",
       "Nonprofit Organization             55\n",
       "Subsidiary or Business Segment     34\n",
       "Government                         15\n",
       "Hospital                           15\n",
       "College / University               13\n",
       "Other Organization                  5\n",
       "School / School District            2\n",
       "Name: Type of ownership, dtype: int64"
      ]
     },
     "execution_count": 9,
     "metadata": {},
     "output_type": "execute_result"
    }
   ],
   "source": [
    "df['Type of ownership'].value_counts()"
   ]
  },
  {
   "cell_type": "code",
   "execution_count": 10,
   "metadata": {},
   "outputs": [
    {
     "data": {
      "text/plain": [
       "data scientist                    313\n",
       "other scientist                   143\n",
       "data engineer                     119\n",
       "analyst                           101\n",
       "machine learning engineer          22\n",
       "Data scientist project manager     16\n",
       "na                                 10\n",
       "data analitics                      8\n",
       "data modeler                        5\n",
       "director                            5\n",
       "Name: job_title_sim, dtype: int64"
      ]
     },
     "execution_count": 10,
     "metadata": {},
     "output_type": "execute_result"
    }
   ],
   "source": [
    "df['job_title_sim'].value_counts()"
   ]
  },
  {
   "cell_type": "code",
   "execution_count": 11,
   "metadata": {},
   "outputs": [
    {
     "data": {
      "text/plain": [
       "Information Technology                180\n",
       "Biotech & Pharmaceuticals             112\n",
       "Business Services                      97\n",
       "Insurance                              69\n",
       "Health Care                            49\n",
       "Finance                                42\n",
       "Manufacturing                          34\n",
       "Aerospace & Defense                    25\n",
       "Education                              23\n",
       "Retail                                 15\n",
       "Oil, Gas, Energy & Utilities           14\n",
       "Government                             11\n",
       "-1                                     10\n",
       "Non-Profit                              9\n",
       "Transportation & Logistics              8\n",
       "Real Estate                             8\n",
       "Travel & Tourism                        8\n",
       "Telecommunications                      6\n",
       "Media                                   6\n",
       "Arts, Entertainment & Recreation        4\n",
       "Consumer Services                       4\n",
       "Mining & Metals                         3\n",
       "Construction, Repair & Maintenance      3\n",
       "Agriculture & Forestry                  1\n",
       "Accounting & Legal                      1\n",
       "Name: Sector, dtype: int64"
      ]
     },
     "execution_count": 11,
     "metadata": {},
     "output_type": "execute_result"
    }
   ],
   "source": [
    "df['Sector'].value_counts()"
   ]
  },
  {
   "cell_type": "code",
   "execution_count": 12,
   "metadata": {},
   "outputs": [
    {
     "data": {
      "text/plain": [
       "1001 - 5000      150\n",
       "501 - 1000       134\n",
       "10000+           130\n",
       "201 - 500        117\n",
       "51 - 200          94\n",
       "5001 - 10000      76\n",
       "1 - 50            31\n",
       "unknown           10\n",
       "Name: Size, dtype: int64"
      ]
     },
     "execution_count": 12,
     "metadata": {},
     "output_type": "execute_result"
    }
   ],
   "source": [
    "df['Size'].value_counts()"
   ]
  },
  {
   "cell_type": "markdown",
   "metadata": {},
   "source": [
    "- พบว่าบาง column มี category บางอันมีจำนวนข้อมูลน้อยเกินไป ทำให้ข้อมูลอาจไม่เพียงพอในการคำนวณ salary X category นั้น จึงทำการ drop ข้อมูลบางส่วน"
   ]
  },
  {
   "cell_type": "code",
   "execution_count": 13,
   "metadata": {},
   "outputs": [
    {
     "data": {
      "text/plain": [
       "742"
      ]
     },
     "execution_count": 13,
     "metadata": {},
     "output_type": "execute_result"
    }
   ],
   "source": [
    "# จำนวนข้อมูลก่อน drop \n",
    "len(df)"
   ]
  },
  {
   "cell_type": "code",
   "execution_count": 14,
   "metadata": {},
   "outputs": [
    {
     "data": {
      "text/plain": [
       "Index(['Company - Private', 'Company - Public', 'Nonprofit Organization',\n",
       "       'Subsidiary or Business Segment', 'Government', 'Hospital',\n",
       "       'College / University'],\n",
       "      dtype='object')"
      ]
     },
     "metadata": {},
     "output_type": "display_data"
    },
    {
     "data": {
      "text/plain": [
       "Index(['data scientist', 'other scientist', 'data engineer', 'analyst',\n",
       "       'machine learning engineer', 'Data scientist project manager'],\n",
       "      dtype='object')"
      ]
     },
     "metadata": {},
     "output_type": "display_data"
    },
    {
     "data": {
      "text/plain": [
       "Index(['Information Technology', 'Biotech & Pharmaceuticals',\n",
       "       'Business Services', 'Insurance', 'Health Care', 'Finance',\n",
       "       'Manufacturing', 'Aerospace & Defense', 'Education', 'Retail',\n",
       "       'Oil, Gas, Energy & Utilities', 'Government'],\n",
       "      dtype='object')"
      ]
     },
     "metadata": {},
     "output_type": "display_data"
    },
    {
     "data": {
      "text/plain": [
       "Index(['1001 - 5000 ', '501 - 1000 ', '10000+ ', '201 - 500 ', '51 - 200 ',\n",
       "       '5001 - 10000 ', '1 - 50 '],\n",
       "      dtype='object')"
      ]
     },
     "metadata": {},
     "output_type": "display_data"
    }
   ],
   "source": [
    "Size_use = df['Size'].value_counts()[df['Size'].value_counts().values > 10].index\n",
    "type_own_use = df['Type of ownership'].value_counts()[df['Type of ownership'].value_counts().values >= 13].index\n",
    "job_title_use = df['job_title_sim'].value_counts()[df['job_title_sim'].value_counts().values > 10].index\n",
    "sector_use = df['Sector'].value_counts()[df['Sector'].value_counts().values > 10].index\n",
    "\n",
    "display(type_own_use,job_title_use,sector_use,Size_use)"
   ]
  },
  {
   "cell_type": "code",
   "execution_count": 15,
   "metadata": {},
   "outputs": [],
   "source": [
    "df_1 = df[(df['Sector'].isin(sector_use))\n",
    "         &(df['job_title_sim'].isin(job_title_use))\n",
    "         &(df['Type of ownership'].isin(type_own_use))\n",
    "         &(df['Size'].isin(Size_use))]"
   ]
  },
  {
   "cell_type": "code",
   "execution_count": 16,
   "metadata": {},
   "outputs": [
    {
     "data": {
      "text/plain": [
       "636"
      ]
     },
     "execution_count": 16,
     "metadata": {},
     "output_type": "execute_result"
    }
   ],
   "source": [
    "# จำนวนข้อมูลหลัง drop // จาก 742 เหลือ 636\n",
    "len(df_1)"
   ]
  },
  {
   "cell_type": "markdown",
   "metadata": {},
   "source": [
    "---"
   ]
  },
  {
   "cell_type": "markdown",
   "metadata": {},
   "source": [
    "### 3. data visualization\n"
   ]
  },
  {
   "cell_type": "markdown",
   "metadata": {},
   "source": [
    "#### 3.1 Explore data (not about avg salary)"
   ]
  },
  {
   "cell_type": "markdown",
   "metadata": {},
   "source": [
    "revenue category ในแต่ละ sector"
   ]
  },
  {
   "cell_type": "code",
   "execution_count": 66,
   "metadata": {},
   "outputs": [
    {
     "data": {
      "text/plain": [
       "<AxesSubplot:xlabel='Sector', ylabel='Revenue'>"
      ]
     },
     "execution_count": 66,
     "metadata": {},
     "output_type": "execute_result"
    },
    {
     "data": {
      "image/png": "[encoded data removed]",
      "text/plain": [
       "<Figure size 864x432 with 2 Axes>"
      ]
     },
     "metadata": {
      "needs_background": "light"
     },
     "output_type": "display_data"
    }
   ],
   "source": [
    "plt.figure(figsize=(12,6))\n",
    "sns.heatmap(df_1.pivot_table(index='Revenue',columns='Sector',values='Rating',aggfunc=len,margins=False,fill_value=0),annot=True,cmap='Blues')"
   ]
  },
  {
   "cell_type": "markdown",
   "metadata": {},
   "source": [
    "- จาก dataset ชุดนี้ พบว่าบริษัทที่รายได้มากกว่า 10000 ล้านดอลล่าห์ ส่วนใหญ่จะเป็น sector พวก Biotech&Phar.. อาจเป็นเพราะเนื่องจากข้อมูลชุดนี้ scrap มาในปี 2021 ซึ่งเป็นช่วง covid-19 ระบาด ทำให้บริษัทที่ผลิตยาและวัคซีนมีรายได้มาก"
   ]
  },
  {
   "cell_type": "markdown",
   "metadata": {},
   "source": [
    "--"
   ]
  },
  {
   "cell_type": "markdown",
   "metadata": {},
   "source": [
    "อายุเฉลี่ยของบริษัทในแต่ละ sector"
   ]
  },
  {
   "cell_type": "code",
   "execution_count": 67,
   "metadata": {},
   "outputs": [
    {
     "data": {
      "text/plain": [
       "<AxesSubplot:xlabel='Age', ylabel='Sector'>"
      ]
     },
     "execution_count": 67,
     "metadata": {},
     "output_type": "execute_result"
    },
    {
     "data": {
      "image/png": "[encoded data removed]",
      "text/plain": [
       "<Figure size 432x288 with 1 Axes>"
      ]
     },
     "metadata": {
      "needs_background": "light"
     },
     "output_type": "display_data"
    }
   ],
   "source": [
    "sector_order = df_1.groupby('Sector')['Age'].mean().sort_values(ascending=False).index\n",
    "sns.barplot(y='Sector',x='Age',data=df_1,estimator=np.mean,order=sector_order)"
   ]
  },
  {
   "cell_type": "markdown",
   "metadata": {},
   "source": [
    "- พบว่าบริษัทที่มีอายุเก่าแก่จะเป็นเกี่ยวกับ manufaturing และพบว่าบริษัทที่พึ่งก่อตั้งจะเป็นพวก Information technology ซึ่งก็เป็นไปตาม commonsense เนื่องจาก technology firm พึ่งเริ่มเข้ามามีบทบาทในธุรกิจ เช่น google facebook youtube"
   ]
  },
  {
   "cell_type": "markdown",
   "metadata": {},
   "source": [
    "--"
   ]
  },
  {
   "cell_type": "markdown",
   "metadata": {},
   "source": [
    "tools require ในแต่ละ Job_title"
   ]
  },
  {
   "cell_type": "code",
   "execution_count": 32,
   "metadata": {},
   "outputs": [
    {
     "data": {
      "text/plain": [
       "<AxesSubplot:ylabel='job_title_sim'>"
      ]
     },
     "execution_count": 32,
     "metadata": {},
     "output_type": "execute_result"
    },
    {
     "data": {
      "image/png": "[encoded data removed]",
      "text/plain": [
       "<Figure size 1296x288 with 2 Axes>"
      ]
     },
     "metadata": {
      "needs_background": "light"
     },
     "output_type": "display_data"
    }
   ],
   "source": [
    "skill_labels = ['Python', 'spark', 'aws', 'excel', 'sql', 'sas', 'keras', 'pytorch',\n",
    "                'scikit', 'tensor', 'hadoop', 'tableau', 'bi', 'flink', 'mongo', 'google_an']\n",
    "\n",
    "divide_skill = []\n",
    "for i in df_1.groupby('job_title_sim')[skill_labels].sum().sum(axis=1).values:\n",
    "    for j in range(0,16):\n",
    "        divide_skill.append(i)\n",
    "\n",
    "skills_by_title_ratio = df_1.groupby('job_title_sim')[skill_labels].sum() / np.array(divide_skill).reshape(6,16)\n",
    "plt.figure(figsize=(18,4))\n",
    "sns.heatmap(skills_by_title_ratio,annot=True)"
   ]
  },
  {
   "cell_type": "markdown",
   "metadata": {},
   "source": [
    "require tools (รวมทุก job title)"
   ]
  },
  {
   "cell_type": "code",
   "execution_count": 72,
   "metadata": {},
   "outputs": [
    {
     "data": {
      "text/plain": [
       "<AxesSubplot:>"
      ]
     },
     "execution_count": 72,
     "metadata": {},
     "output_type": "execute_result"
    },
    {
     "data": {
      "image/png": "[encoded data removed]",
      "text/plain": [
       "<Figure size 432x288 with 1 Axes>"
      ]
     },
     "metadata": {
      "needs_background": "light"
     },
     "output_type": "display_data"
    }
   ],
   "source": [
    "tool_require = df_1[skill_labels].sum().sort_values(ascending=False)\n",
    "sns.barplot(y=tool_require.index,x=tool_require.values)"
   ]
  },
  {
   "cell_type": "markdown",
   "metadata": {},
   "source": [
    "#### 3.2 Explore data (about avg salary)"
   ]
  },
  {
   "cell_type": "markdown",
   "metadata": {},
   "source": [
    "ช่วงของเงินเดือน"
   ]
  },
  {
   "cell_type": "code",
   "execution_count": 21,
   "metadata": {},
   "outputs": [
    {
     "data": {
      "text/plain": [
       "count    742.00\n",
       "mean     100.63\n",
       "std       38.86\n",
       "min       13.50\n",
       "25%       73.50\n",
       "50%       97.50\n",
       "75%      122.50\n",
       "max      254.00\n",
       "Name: avg_salary (K), dtype: float64"
      ]
     },
     "execution_count": 21,
     "metadata": {},
     "output_type": "execute_result"
    },
    {
     "data": {
      "image/png": "[encoded data removed]",
      "text/plain": [
       "<Figure size 360x360 with 1 Axes>"
      ]
     },
     "metadata": {
      "needs_background": "light"
     },
     "output_type": "display_data"
    }
   ],
   "source": [
    "sns.displot(x='avg_salary (K)',data=df_1)\n",
    "np.round(df['avg_salary (K)'].describe(),2)"
   ]
  },
  {
   "cell_type": "markdown",
   "metadata": {},
   "source": [
    "- ช่วงเงินเดือนส่วนใหญ่อยู่ที่ 80K - 110K"
   ]
  },
  {
   "cell_type": "markdown",
   "metadata": {},
   "source": [
    "--"
   ]
  },
  {
   "cell_type": "markdown",
   "metadata": {},
   "source": [
    "เงินเดือนเฉลี่ยในแต่ละอุตสาหกรรม"
   ]
  },
  {
   "cell_type": "code",
   "execution_count": 26,
   "metadata": {},
   "outputs": [
    {
     "data": {
      "text/plain": [
       "Information Technology          165\n",
       "Biotech & Pharmaceuticals       107\n",
       "Business Services                94\n",
       "Insurance                        62\n",
       "Health Care                      48\n",
       "Finance                          40\n",
       "Manufacturing                    34\n",
       "Aerospace & Defense              25\n",
       "Education                        21\n",
       "Retail                           15\n",
       "Oil, Gas, Energy & Utilities     14\n",
       "Government                       11\n",
       "Name: Sector, dtype: int64"
      ]
     },
     "execution_count": 26,
     "metadata": {},
     "output_type": "execute_result"
    },
    {
     "data": {
      "image/png": "[encoded data removed]",
      "text/plain": [
       "<Figure size 432x288 with 1 Axes>"
      ]
     },
     "metadata": {
      "needs_background": "light"
     },
     "output_type": "display_data"
    }
   ],
   "source": [
    "sector_order_salary = df_1.groupby('Sector')['avg_salary (K)'].mean().sort_values(ascending=False).index\n",
    "sns.barplot(y='Sector',x='avg_salary (K)',data=df_1,order=sector_order_salary)\n",
    "df_1['Sector'].value_counts()"
   ]
  },
  {
   "cell_type": "markdown",
   "metadata": {},
   "source": [
    "- พบว่าเงินเดือนเฉลี่ยของอุตสาหกรรม IT (เฉลี่ยจาก 165 ตำแหน่ง) มากสุดซึ่งประมาณ 110K และน้อยสุดคือ HealthCare (เฉลี่ยจาก 48 ตำแหน่ง) ซึ่งประมาณ 70K"
   ]
  },
  {
   "cell_type": "markdown",
   "metadata": {},
   "source": [
    "--"
   ]
  },
  {
   "cell_type": "markdown",
   "metadata": {},
   "source": [
    "เงินเดือนเฉลี่ยในแต่ละ Job title"
   ]
  },
  {
   "cell_type": "code",
   "execution_count": 28,
   "metadata": {},
   "outputs": [
    {
     "data": {
      "text/plain": [
       "<AxesSubplot:xlabel='avg_salary (K)', ylabel='job_title_sim'>"
      ]
     },
     "execution_count": 28,
     "metadata": {},
     "output_type": "execute_result"
    },
    {
     "data": {
      "image/png": "[encoded data removed]",
      "text/plain": [
       "<Figure size 432x288 with 1 Axes>"
      ]
     },
     "metadata": {
      "needs_background": "light"
     },
     "output_type": "display_data"
    }
   ],
   "source": [
    "sns.barplot(y='job_title_sim',x='avg_salary (K)',data=df_1,order=df_1.groupby('job_title_sim')['avg_salary (K)'].mean().sort_values(ascending=False).index)"
   ]
  },
  {
   "cell_type": "markdown",
   "metadata": {},
   "source": [
    "- พบว่าตำแหน่ง machine learning engineer มีเงินเดือนเฉลี่ยมากสุด อาจเนื่องจากมีการใช้ tools ที่หลากหลายว่าตำแหน่งอื่นๆ เช่น tensor"
   ]
  },
  {
   "cell_type": "markdown",
   "metadata": {},
   "source": [
    "--"
   ]
  },
  {
   "cell_type": "markdown",
   "metadata": {},
   "source": [
    "เงินเดือนเฉลี่ยในแต่ละขนาดบริษัท"
   ]
  },
  {
   "cell_type": "code",
   "execution_count": 30,
   "metadata": {},
   "outputs": [
    {
     "data": {
      "text/plain": [
       "<AxesSubplot:xlabel='avg_salary (K)', ylabel='Size'>"
      ]
     },
     "execution_count": 30,
     "metadata": {},
     "output_type": "execute_result"
    },
    {
     "data": {
      "image/png": "[encoded data removed]",
      "text/plain": [
       "<Figure size 432x288 with 1 Axes>"
      ]
     },
     "metadata": {
      "needs_background": "light"
     },
     "output_type": "display_data"
    }
   ],
   "source": [
    "sns.barplot(y='Size',x='avg_salary (K)',data=df_1,order=df_1.groupby('Size')['avg_salary (K)'].mean().sort_values(ascending=False).index)"
   ]
  },
  {
   "cell_type": "markdown",
   "metadata": {},
   "source": [
    "- พบว่าบริษัทที่มีเงินเดือนเฉลี่ยมากคือ Size 10000+ อาจเนื่องจากเป็นบริษัทใหญ่ มีความมั่นคงในรายได้เพียงพอที่จะจ่ายให้พนักงาน \n",
    "- และ Size 1 - 200 ก็มีเงินเดือนเฉลี่ยมากเช่นกัน อาจเป็นเพราะบริษัทคนยังน้อย เลยสามารถจ่ายได้เยอะ"
   ]
  },
  {
   "cell_type": "markdown",
   "metadata": {},
   "source": [
    "--"
   ]
  },
  {
   "cell_type": "markdown",
   "metadata": {},
   "source": [
    "เงินเดือนเฉลี่ยในแต่ละ require tools"
   ]
  },
  {
   "cell_type": "code",
   "execution_count": 37,
   "metadata": {},
   "outputs": [
    {
     "data": {
      "text/plain": [
       "<AxesSubplot:>"
      ]
     },
     "execution_count": 37,
     "metadata": {},
     "output_type": "execute_result"
    },
    {
     "data": {
      "image/png": "[encoded data removed]",
      "text/plain": [
       "<Figure size 432x288 with 1 Axes>"
      ]
     },
     "metadata": {
      "needs_background": "light"
     },
     "output_type": "display_data"
    }
   ],
   "source": [
    "mean_skill_list = []\n",
    "for i in skill_labels:\n",
    "    mean_skill_list.append(df_1[df_1[i] == 1].groupby(i)['avg_salary (K)'].mean())\n",
    "pd_mean_each_tool = pd.concat(mean_skill_list)\n",
    "pd_mean_each_tool.index = skill_labels\n",
    "sns.barplot(y=pd_mean_each_tool.index,x=pd_mean_each_tool.values,order=pd_mean_each_tool.sort_values(ascending=False).index)"
   ]
  },
  {
   "cell_type": "markdown",
   "metadata": {},
   "source": [
    "- ตำแหน่งที่ใช้ tools พวกเกี่ยวกับ deep learning / machine learning จะมีเงินเดือนเฉลี่ยที่สูง ซึ่งสอดคล้องกับ machine learning engineer / data sci ที่ได้เงินเดือนสูง"
   ]
  },
  {
   "cell_type": "markdown",
   "metadata": {},
   "source": [
    "---"
   ]
  }
 ],
 "metadata": {
  "interpreter": {
   "hash": "47773fe2d7af6e30598f9944cfc7f1ee6863a797e7d0fe7410c38ffcaadc197a"
  },
  "kernelspec": {
   "display_name": "Python 3.9.10 64-bit (windows store)",
   "language": "python",
   "name": "python3"
  },
  "language_info": {
   "codemirror_mode": {
    "name": "ipython",
    "version": 3
   },
   "file_extension": ".py",
   "mimetype": "text/x-python",
   "name": "python",
   "nbconvert_exporter": "python",
   "pygments_lexer": "ipython3",
   "version": "3.9.10"
  },
  "orig_nbformat": 4
 },
 "nbformat": 4,
 "nbformat_minor": 2
}
